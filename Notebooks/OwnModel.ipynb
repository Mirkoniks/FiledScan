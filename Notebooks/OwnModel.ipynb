{
 "cells": [
  {
   "cell_type": "code",
   "execution_count": 1,
   "id": "81792a3b-6e9d-4d84-a7ac-bcdfa08825f2",
   "metadata": {},
   "outputs": [
    {
     "name": "stdout",
     "output_type": "stream",
     "text": [
      "^C\n",
      "Note: you may need to restart the kernel to use updated packages.\n"
     ]
    }
   ],
   "source": [
    "pip uninstall tensorflow-intel wrapt"
   ]
  },
  {
   "cell_type": "code",
   "execution_count": 2,
   "id": "a82829e8-8cc6-415b-bfbb-e21b996c98de",
   "metadata": {
    "scrolled": true
   },
   "outputs": [
    {
     "name": "stdout",
     "output_type": "stream",
     "text": [
      "Requirement already satisfied: tensorflow-intel in c:\\users\\miro\\anaconda3\\lib\\site-packages (2.15.0)\n",
      "Requirement already satisfied: absl-py>=1.0.0 in c:\\users\\miro\\anaconda3\\lib\\site-packages (from tensorflow-intel) (2.1.0)\n",
      "Requirement already satisfied: astunparse>=1.6.0 in c:\\users\\miro\\anaconda3\\lib\\site-packages (from tensorflow-intel) (1.6.3)\n",
      "Requirement already satisfied: flatbuffers>=23.5.26 in c:\\users\\miro\\anaconda3\\lib\\site-packages (from tensorflow-intel) (23.5.26)\n",
      "Requirement already satisfied: gast!=0.5.0,!=0.5.1,!=0.5.2,>=0.2.1 in c:\\users\\miro\\anaconda3\\lib\\site-packages (from tensorflow-intel) (0.5.4)\n",
      "Requirement already satisfied: google-pasta>=0.1.1 in c:\\users\\miro\\anaconda3\\lib\\site-packages (from tensorflow-intel) (0.2.0)\n",
      "Requirement already satisfied: h5py>=2.9.0 in c:\\users\\miro\\anaconda3\\lib\\site-packages (from tensorflow-intel) (3.10.0)\n",
      "Requirement already satisfied: libclang>=13.0.0 in c:\\users\\miro\\anaconda3\\lib\\site-packages (from tensorflow-intel) (16.0.6)\n",
      "Requirement already satisfied: ml-dtypes~=0.2.0 in c:\\users\\miro\\appdata\\roaming\\python\\python311\\site-packages (from tensorflow-intel) (0.2.0)\n",
      "Requirement already satisfied: numpy<2.0.0,>=1.23.5 in c:\\users\\miro\\anaconda3\\lib\\site-packages (from tensorflow-intel) (1.26.4)\n",
      "Requirement already satisfied: opt-einsum>=2.3.2 in c:\\users\\miro\\anaconda3\\lib\\site-packages (from tensorflow-intel) (3.3.0)\n",
      "Requirement already satisfied: packaging in c:\\users\\miro\\anaconda3\\lib\\site-packages (from tensorflow-intel) (23.1)\n",
      "Requirement already satisfied: protobuf!=4.21.0,!=4.21.1,!=4.21.2,!=4.21.3,!=4.21.4,!=4.21.5,<5.0.0dev,>=3.20.3 in c:\\users\\miro\\anaconda3\\lib\\site-packages (from tensorflow-intel) (4.23.4)\n",
      "Requirement already satisfied: setuptools in c:\\users\\miro\\anaconda3\\lib\\site-packages (from tensorflow-intel) (68.0.0)\n",
      "Requirement already satisfied: six>=1.12.0 in c:\\users\\miro\\anaconda3\\lib\\site-packages (from tensorflow-intel) (1.16.0)\n",
      "Requirement already satisfied: termcolor>=1.1.0 in c:\\users\\miro\\anaconda3\\lib\\site-packages (from tensorflow-intel) (2.4.0)\n",
      "Requirement already satisfied: typing-extensions>=3.6.6 in c:\\users\\miro\\anaconda3\\lib\\site-packages (from tensorflow-intel) (4.9.0)\n",
      "Requirement already satisfied: wrapt<1.15,>=1.11.0 in c:\\users\\miro\\anaconda3\\lib\\site-packages (from tensorflow-intel) (1.14.0)\n",
      "Requirement already satisfied: tensorflow-io-gcs-filesystem>=0.23.1 in c:\\users\\miro\\anaconda3\\lib\\site-packages (from tensorflow-intel) (0.31.0)\n",
      "Requirement already satisfied: grpcio<2.0,>=1.24.3 in c:\\users\\miro\\anaconda3\\lib\\site-packages (from tensorflow-intel) (1.60.1)\n",
      "Requirement already satisfied: tensorboard<2.16,>=2.15 in c:\\users\\miro\\anaconda3\\lib\\site-packages (from tensorflow-intel) (2.15.1)\n",
      "Requirement already satisfied: tensorflow-estimator<2.16,>=2.15.0 in c:\\users\\miro\\anaconda3\\lib\\site-packages (from tensorflow-intel) (2.15.0)\n",
      "Requirement already satisfied: keras<2.16,>=2.15.0 in c:\\users\\miro\\anaconda3\\lib\\site-packages (from tensorflow-intel) (2.15.0)\n",
      "Requirement already satisfied: wheel<1.0,>=0.23.0 in c:\\users\\miro\\anaconda3\\lib\\site-packages (from astunparse>=1.6.0->tensorflow-intel) (0.38.4)\n",
      "Requirement already satisfied: google-auth<3,>=1.6.3 in c:\\users\\miro\\anaconda3\\lib\\site-packages (from tensorboard<2.16,>=2.15->tensorflow-intel) (2.27.0)\n",
      "Requirement already satisfied: google-auth-oauthlib<2,>=0.5 in c:\\users\\miro\\anaconda3\\lib\\site-packages (from tensorboard<2.16,>=2.15->tensorflow-intel) (1.2.0)\n",
      "Requirement already satisfied: markdown>=2.6.8 in c:\\users\\miro\\anaconda3\\lib\\site-packages (from tensorboard<2.16,>=2.15->tensorflow-intel) (3.6)\n",
      "Requirement already satisfied: requests<3,>=2.21.0 in c:\\users\\miro\\anaconda3\\lib\\site-packages (from tensorboard<2.16,>=2.15->tensorflow-intel) (2.31.0)\n",
      "Requirement already satisfied: tensorboard-data-server<0.8.0,>=0.7.0 in c:\\users\\miro\\anaconda3\\lib\\site-packages (from tensorboard<2.16,>=2.15->tensorflow-intel) (0.7.2)\n",
      "Requirement already satisfied: werkzeug>=1.0.1 in c:\\users\\miro\\anaconda3\\lib\\site-packages (from tensorboard<2.16,>=2.15->tensorflow-intel) (3.0.1)\n",
      "Requirement already satisfied: cachetools<6.0,>=2.0.0 in c:\\users\\miro\\anaconda3\\lib\\site-packages (from google-auth<3,>=1.6.3->tensorboard<2.16,>=2.15->tensorflow-intel) (5.3.2)\n",
      "Requirement already satisfied: pyasn1-modules>=0.2.1 in c:\\users\\miro\\anaconda3\\lib\\site-packages (from google-auth<3,>=1.6.3->tensorboard<2.16,>=2.15->tensorflow-intel) (0.4.0)\n",
      "Requirement already satisfied: rsa<5,>=3.1.4 in c:\\users\\miro\\anaconda3\\lib\\site-packages (from google-auth<3,>=1.6.3->tensorboard<2.16,>=2.15->tensorflow-intel) (4.9)\n",
      "Requirement already satisfied: requests-oauthlib>=0.7.0 in c:\\users\\miro\\anaconda3\\lib\\site-packages (from google-auth-oauthlib<2,>=0.5->tensorboard<2.16,>=2.15->tensorflow-intel) (1.3.1)\n",
      "Requirement already satisfied: charset-normalizer<4,>=2 in c:\\users\\miro\\anaconda3\\lib\\site-packages (from requests<3,>=2.21.0->tensorboard<2.16,>=2.15->tensorflow-intel) (2.0.4)\n",
      "Requirement already satisfied: idna<4,>=2.5 in c:\\users\\miro\\anaconda3\\lib\\site-packages (from requests<3,>=2.21.0->tensorboard<2.16,>=2.15->tensorflow-intel) (3.4)\n",
      "Requirement already satisfied: urllib3<3,>=1.21.1 in c:\\users\\miro\\anaconda3\\lib\\site-packages (from requests<3,>=2.21.0->tensorboard<2.16,>=2.15->tensorflow-intel) (1.26.18)\n",
      "Requirement already satisfied: certifi>=2017.4.17 in c:\\users\\miro\\anaconda3\\lib\\site-packages (from requests<3,>=2.21.0->tensorboard<2.16,>=2.15->tensorflow-intel) (2023.11.17)\n",
      "Requirement already satisfied: MarkupSafe>=2.1.1 in c:\\users\\miro\\anaconda3\\lib\\site-packages (from werkzeug>=1.0.1->tensorboard<2.16,>=2.15->tensorflow-intel) (2.1.3)\n",
      "Requirement already satisfied: pyasn1<0.7.0,>=0.4.6 in c:\\users\\miro\\anaconda3\\lib\\site-packages (from pyasn1-modules>=0.2.1->google-auth<3,>=1.6.3->tensorboard<2.16,>=2.15->tensorflow-intel) (0.6.0)\n",
      "Requirement already satisfied: oauthlib>=3.0.0 in c:\\users\\miro\\anaconda3\\lib\\site-packages (from requests-oauthlib>=0.7.0->google-auth-oauthlib<2,>=0.5->tensorboard<2.16,>=2.15->tensorflow-intel) (3.2.2)\n",
      "Note: you may need to restart the kernel to use updated packages.\n"
     ]
    }
   ],
   "source": [
    "pip install tensorflow-intel"
   ]
  },
  {
   "cell_type": "code",
   "execution_count": 2,
   "id": "fd08c67b-5e70-4605-a05a-8192a929073a",
   "metadata": {},
   "outputs": [
    {
     "name": "stdout",
     "output_type": "stream",
     "text": [
      "Requirement already satisfied: h5py in c:\\users\\miro\\anaconda3\\lib\\site-packages (3.10.0)\n",
      "Requirement already satisfied: numpy>=1.17.3 in c:\\users\\miro\\anaconda3\\lib\\site-packages (from h5py) (1.26.4)\n",
      "Note: you may need to restart the kernel to use updated packages.\n"
     ]
    }
   ],
   "source": [
    "pip install h5py"
   ]
  },
  {
   "cell_type": "code",
   "execution_count": 4,
   "id": "9608056f-b8e7-469a-befa-d18eae7e7691",
   "metadata": {},
   "outputs": [
    {
     "name": "stdout",
     "output_type": "stream",
     "text": [
      "Collecting pyparsing\n",
      "  Obtaining dependency information for pyparsing from https://files.pythonhosted.org/packages/9d/ea/6d76df31432a0e6fdf81681a895f009a4bb47b3c39036db3e1b528191d52/pyparsing-3.1.2-py3-none-any.whl.metadata\n",
      "  Downloading pyparsing-3.1.2-py3-none-any.whl.metadata (5.1 kB)\n",
      "Downloading pyparsing-3.1.2-py3-none-any.whl (103 kB)\n",
      "   ---------------------------------------- 0.0/103.2 kB ? eta -:--:--\n",
      "   --- ------------------------------------ 10.2/103.2 kB ? eta -:--:--\n",
      "   ----------------------- --------------- 61.4/103.2 kB 825.8 kB/s eta 0:00:01\n",
      "   ---------------------------------------- 103.2/103.2 kB 1.2 MB/s eta 0:00:00\n",
      "Installing collected packages: pyparsing\n",
      "Successfully installed pyparsing-3.1.2\n",
      "Note: you may need to restart the kernel to use updated packages.\n"
     ]
    }
   ],
   "source": [
    "pip install pyparsing"
   ]
  },
  {
   "cell_type": "code",
   "execution_count": 3,
   "id": "4c0a6c19-94f7-40ca-a62c-cc93c117b25a",
   "metadata": {},
   "outputs": [
    {
     "name": "stdout",
     "output_type": "stream",
     "text": [
      "Found 407 images belonging to 3 classes.\n"
     ]
    }
   ],
   "source": [
    "from keras.preprocessing.image import ImageDataGenerator\n",
    "\n",
    "# Define training directory\n",
    "train_data_dir = r'D:\\archive\\archive (1)\\wheat_leaf'\n",
    "\n",
    "# Define image data generator for training with normalization and optional augmentation\n",
    "train_datagen = ImageDataGenerator(\n",
    "    rescale=1./255,         # Normalize pixel values to [0,1]\n",
    "    rotation_range=40,      # Randomly rotate images\n",
    "    width_shift_range=0.2,  # Randomly shift images horizontally\n",
    "    height_shift_range=0.2, # Randomly shift images vertically\n",
    "    shear_range=0.2,        # Shear intensity\n",
    "    zoom_range=0.2,         # Randomly zoom in and out\n",
    "    horizontal_flip=True,   # Randomly flip images horizontally\n",
    "    fill_mode='nearest'     # Fill in missing pixels with the nearest value\n",
    ")\n",
    "\n",
    "# Define batch size\n",
    "batch_size = 128\n",
    "\n",
    "# Generate batches of training data\n",
    "train_generator = train_datagen.flow_from_directory(\n",
    "    train_data_dir,         # Target directory\n",
    "    target_size=(255, 255), # Resize images to 150x150\n",
    "    batch_size=batch_size,  # Set batch size\n",
    "    class_mode='categorical'     # Since you're using binary_crossentropy loss, you need binary labels\n",
    ")\n"
   ]
  },
  {
   "cell_type": "code",
   "execution_count": 5,
   "id": "d5008829-690a-4f27-8701-d72800af0e4e",
   "metadata": {},
   "outputs": [
    {
     "name": "stdout",
     "output_type": "stream",
     "text": [
      "Epoch 1/3\n",
      "4/4 [==============================] - 79s 18s/step - loss: 121416.7891 - accuracy: 0.4791\n",
      "Epoch 2/3\n",
      "4/4 [==============================] - 81s 18s/step - loss: 46.7299 - accuracy: 0.5938\n",
      "Epoch 3/3\n",
      "4/4 [==============================] - 82s 19s/step - loss: 0.6786 - accuracy: 0.6667\n"
     ]
    }
   ],
   "source": [
    "from keras.models import Sequential\n",
    "from keras.layers import Conv2D, MaxPooling2D, Flatten, Dense\n",
    "import os\n",
    "from keras.optimizers import Adam\n",
    "\n",
    "# Define the neural network architecture\n",
    "model = Sequential()\n",
    "model.add(Conv2D(32, (3, 3), activation='relu', input_shape=(255, 255, 3)))\n",
    "model.add(MaxPooling2D((2, 2)))\n",
    "model.add(Conv2D(64, (3, 3), activation='relu'))\n",
    "model.add(MaxPooling2D((2, 2)))\n",
    "model.add(Conv2D(128, (3, 3), activation='relu'))\n",
    "model.add(MaxPooling2D((2, 2)))\n",
    "model.add(Flatten())\n",
    "model.add(Dense(512, activation='relu'))\n",
    "model.add(Dense(1, activation='sigmoid'))\n",
    "\n",
    "# Define the learning rate\n",
    "learning_rate = 0.050\n",
    "\n",
    "# Define the optimizer with the specified learning rate\n",
    "optimizer = Adam(learning_rate=learning_rate)\n",
    "\n",
    "# Compile the model\n",
    "model.compile(loss='binary_crossentropy',\n",
    "              optimizer=optimizer,\n",
    "              metrics=['accuracy'])\n",
    "\n",
    "# Train the model\n",
    "history = model.fit(\n",
    "    train_generator,                        # Training data generator\n",
    "    steps_per_epoch=len(train_generator),  # Number of steps per epoch\n",
    "    epochs=3,                             # Number of epochs\n",
    "    verbose=1                              # Show training progress\n",
    ")\n",
    "\n",
    "# Save the model\n",
    "\n",
    "model.save('my_model.keras')\n"
   ]
  },
  {
   "cell_type": "code",
   "execution_count": 19,
   "id": "d7ebe914-5433-425d-926e-3ff85cf08363",
   "metadata": {},
   "outputs": [
    {
     "name": "stdout",
     "output_type": "stream",
     "text": [
      "1/1 [==============================] - 0s 34ms/step\n",
      "Predicted Class: stripe_rust\n"
     ]
    }
   ],
   "source": [
    "from keras.preprocessing import image\n",
    "import numpy as np\n",
    "\n",
    "new_image_path = 'loh(1).JPG'  # Replace with the path to your new image\n",
    "new_img = image.load_img(new_image_path, target_size=(255, 255))\n",
    "new_img_array = image.img_to_array(new_img)\n",
    "new_img_array = np.expand_dims(new_img_array, axis=0)\n",
    "new_img_array /= 255.0\n",
    "\n",
    "# Make predictions\n",
    "predictions = model.predict(new_img_array)\n",
    "predicted_class = np.argmax(predictions)\n",
    "\n",
    "# Interpret the predictions\n",
    "class_names = ['stripe_rust', 'septoria', 'Healthy']  # Define class names\n",
    "predicted_class_name = class_names[predicted_class]\n",
    "print(\"Predicted Class:\", predicted_class_name)"
   ]
  },
  {
   "cell_type": "code",
   "execution_count": null,
   "id": "c8194adc-0ad8-49ce-a7ee-1afd5f3f3fea",
   "metadata": {},
   "outputs": [],
   "source": []
  },
  {
   "cell_type": "code",
   "execution_count": null,
   "id": "3b8d2c8e-afbc-4906-8647-13933c0a2bd4",
   "metadata": {},
   "outputs": [],
   "source": []
  },
  {
   "cell_type": "code",
   "execution_count": null,
   "id": "e96f8d5f-d464-4676-91d8-3f68e590df6c",
   "metadata": {},
   "outputs": [],
   "source": []
  }
 ],
 "metadata": {
  "kernelspec": {
   "display_name": "Python 3 (ipykernel)",
   "language": "python",
   "name": "python3"
  },
  "language_info": {
   "codemirror_mode": {
    "name": "ipython",
    "version": 3
   },
   "file_extension": ".py",
   "mimetype": "text/x-python",
   "name": "python",
   "nbconvert_exporter": "python",
   "pygments_lexer": "ipython3",
   "version": "3.11.5"
  }
 },
 "nbformat": 4,
 "nbformat_minor": 5
}
