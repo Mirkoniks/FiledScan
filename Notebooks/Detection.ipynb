{
 "cells": [
  {
   "cell_type": "code",
   "execution_count": null,
   "id": "dae790e8-72cb-4ad7-ad0a-a490fa1adc5d",
   "metadata": {},
   "outputs": [],
   "source": [
    "pip install ultralytics"
   ]
  },
  {
   "cell_type": "code",
   "execution_count": 4,
   "id": "a5847ab7-5dc8-40b4-a384-b6d95c12f14c",
   "metadata": {},
   "outputs": [
    {
     "name": "stdout",
     "output_type": "stream",
     "text": [
      "Collecting pytorch\n",
      "  Downloading pytorch-1.0.2.tar.gz (689 bytes)\n",
      "  Preparing metadata (setup.py): started\n",
      "  Preparing metadata (setup.py): finished with status 'done'\n",
      "Building wheels for collected packages: pytorch\n",
      "  Building wheel for pytorch (setup.py): started\n",
      "  Building wheel for pytorch (setup.py): finished with status 'error'\n",
      "  Running setup.py clean for pytorch\n",
      "Failed to build pytorch\n",
      "Note: you may need to restart the kernel to use updated packages.\n"
     ]
    },
    {
     "name": "stderr",
     "output_type": "stream",
     "text": [
      "  error: subprocess-exited-with-error\n",
      "  \n",
      "  python setup.py bdist_wheel did not run successfully.\n",
      "  exit code: 1\n",
      "  \n",
      "  [6 lines of output]\n",
      "  Traceback (most recent call last):\n",
      "    File \"<string>\", line 2, in <module>\n",
      "    File \"<pip-setuptools-caller>\", line 34, in <module>\n",
      "    File \"C:\\Users\\Miro\\AppData\\Local\\Temp\\pip-install-si_66ghv\\pytorch_6c7dfb3163634c21b0093ef1e636f74d\\setup.py\", line 15, in <module>\n",
      "      raise Exception(message)\n",
      "  Exception: You tried to install \"pytorch\". The package named for PyTorch is \"torch\"\n",
      "  [end of output]\n",
      "  \n",
      "  note: This error originates from a subprocess, and is likely not a problem with pip.\n",
      "  ERROR: Failed building wheel for pytorch\n",
      "ERROR: Could not build wheels for pytorch, which is required to install pyproject.toml-based projects\n"
     ]
    }
   ],
   "source": [
    "pip install pytorch"
   ]
  },
  {
   "cell_type": "code",
   "execution_count": 16,
   "id": "5de164cc-c0d1-4972-9291-645f7c92ce5b",
   "metadata": {},
   "outputs": [
    {
     "name": "stdout",
     "output_type": "stream",
     "text": [
      "Requirement already satisfied: torch in c:\\users\\miro\\anaconda3\\lib\\site-packages (2.2.2)Note: you may need to restart the kernel to use updated packages.\n",
      "\n",
      "Requirement already satisfied: torchvision in c:\\users\\miro\\anaconda3\\lib\\site-packages (0.17.2)\n",
      "Collecting torchaudio\n",
      "  Obtaining dependency information for torchaudio from https://files.pythonhosted.org/packages/5b/b8/c2eb1dea20b703ac43e41f95c29998b040bfe7e5ad50acd21ee4fb13078e/torchaudio-2.2.2-cp311-cp311-win_amd64.whl.metadata\n",
      "  Downloading torchaudio-2.2.2-cp311-cp311-win_amd64.whl.metadata (6.4 kB)\n",
      "Requirement already satisfied: filelock in c:\\users\\miro\\anaconda3\\lib\\site-packages (from torch) (3.13.1)\n",
      "Requirement already satisfied: typing-extensions>=4.8.0 in c:\\users\\miro\\anaconda3\\lib\\site-packages (from torch) (4.9.0)\n",
      "Requirement already satisfied: sympy in c:\\users\\miro\\anaconda3\\lib\\site-packages (from torch) (1.12)\n",
      "Requirement already satisfied: networkx in c:\\users\\miro\\anaconda3\\lib\\site-packages (from torch) (3.2.1)\n",
      "Requirement already satisfied: jinja2 in c:\\users\\miro\\anaconda3\\lib\\site-packages (from torch) (3.1.3)\n",
      "Requirement already satisfied: fsspec in c:\\users\\miro\\anaconda3\\lib\\site-packages (from torch) (2023.10.0)\n",
      "Requirement already satisfied: numpy in c:\\users\\miro\\anaconda3\\lib\\site-packages (from torchvision) (1.26.4)\n",
      "Requirement already satisfied: pillow!=8.3.*,>=5.3.0 in c:\\users\\miro\\anaconda3\\lib\\site-packages (from torchvision) (10.0.1)\n",
      "Requirement already satisfied: MarkupSafe>=2.0 in c:\\users\\miro\\anaconda3\\lib\\site-packages (from jinja2->torch) (2.1.3)\n",
      "Requirement already satisfied: mpmath>=0.19 in c:\\users\\miro\\anaconda3\\lib\\site-packages (from sympy->torch) (1.3.0)\n",
      "Downloading torchaudio-2.2.2-cp311-cp311-win_amd64.whl (2.4 MB)\n",
      "   ---------------------------------------- 0.0/2.4 MB ? eta -:--:--\n",
      "   ---------------------------------------- 0.0/2.4 MB ? eta -:--:--\n",
      "    --------------------------------------- 0.0/2.4 MB 653.6 kB/s eta 0:00:04\n",
      "   --- ------------------------------------ 0.2/2.4 MB 1.8 MB/s eta 0:00:02\n",
      "   ---------- ----------------------------- 0.6/2.4 MB 3.9 MB/s eta 0:00:01\n",
      "   ---------------- ----------------------- 1.0/2.4 MB 4.6 MB/s eta 0:00:01\n",
      "   ------------------------ --------------- 1.5/2.4 MB 6.2 MB/s eta 0:00:01\n",
      "   ---------------------------------- ----- 2.0/2.4 MB 6.8 MB/s eta 0:00:01\n",
      "   ---------------------------------------- 2.4/2.4 MB 7.2 MB/s eta 0:00:00\n",
      "Installing collected packages: torchaudio\n",
      "Successfully installed torchaudio-2.2.2\n"
     ]
    }
   ],
   "source": [
    "pip install torch torchvision torchaudio "
   ]
  },
  {
   "cell_type": "code",
   "execution_count": 20,
   "id": "c187498e-cf52-4de4-9092-d9251efa6f12",
   "metadata": {},
   "outputs": [
    {
     "data": {
      "text/plain": [
       "False"
      ]
     },
     "execution_count": 20,
     "metadata": {},
     "output_type": "execute_result"
    }
   ],
   "source": [
    "torch.cuda.is_available()"
   ]
  },
  {
   "cell_type": "code",
   "execution_count": 9,
   "id": "a489569b-c557-4909-b5ef-4cd8a489aca3",
   "metadata": {},
   "outputs": [
    {
     "name": "stdout",
     "output_type": "stream",
     "text": [
      "Ultralytics YOLOv8.1.37 🚀 Python-3.11.5 torch-2.2.2+cpu CPU (AMD Ryzen 7 5800H with Radeon Graphics)\n",
      "\u001b[34m\u001b[1mengine\\trainer: \u001b[0mtask=classify, mode=train, model=yolov8n-cls.pt, data=D:\\archive3\\Data, epochs=40, time=None, patience=100, batch=16, imgsz=224, save=True, save_period=-1, cache=False, device=None, workers=8, project=None, name=train30, exist_ok=False, pretrained=True, optimizer=auto, verbose=True, seed=0, deterministic=True, single_cls=False, rect=False, cos_lr=False, close_mosaic=10, resume=False, amp=True, fraction=1.0, profile=False, freeze=5, multi_scale=False, overlap_mask=True, mask_ratio=4, dropout=0.0, val=True, split=val, save_json=False, save_hybrid=False, conf=None, iou=0.7, max_det=300, half=False, dnn=False, plots=True, source=None, vid_stride=1, stream_buffer=False, visualize=False, augment=False, agnostic_nms=False, classes=None, retina_masks=False, embed=None, show=False, save_frames=False, save_txt=False, save_conf=False, save_crop=False, show_labels=True, show_conf=True, show_boxes=True, line_width=None, format=torchscript, keras=False, optimize=False, int8=False, dynamic=False, simplify=False, opset=None, workspace=4, nms=False, lr0=0.01, lrf=0.01, momentum=0.937, weight_decay=0.0005, warmup_epochs=3.0, warmup_momentum=0.8, warmup_bias_lr=0.1, box=7.5, cls=0.5, dfl=1.5, pose=12.0, kobj=1.0, label_smoothing=0.0, nbs=64, hsv_h=0.015, hsv_s=0.7, hsv_v=0.4, degrees=0.0, translate=0.1, scale=0.5, shear=0.0, perspective=0.0, flipud=0.0, fliplr=0.5, bgr=0.0, mosaic=1.0, mixup=0.0, copy_paste=0.0, auto_augment=randaugment, erasing=0.4, crop_fraction=1.0, cfg=None, tracker=botsort.yaml, save_dir=runs\\classify\\train30\n",
      "\u001b[34m\u001b[1mtrain:\u001b[0m D:\\archive3\\Data\\train... found 250 images in 2 classes ✅ \n",
      "\u001b[34m\u001b[1mval:\u001b[0m D:\\archive3\\Data\\val... found 1039 images in 2 classes ✅ \n",
      "\u001b[34m\u001b[1mtest:\u001b[0m D:\\archive3\\Data\\test... found 1401 images in 6 classes: ERROR ❌️ requires 2 classes, not 6\n",
      "Overriding model.yaml nc=1000 with nc=2\n",
      "\n",
      "                   from  n    params  module                                       arguments                     \n",
      "  0                  -1  1       464  ultralytics.nn.modules.conv.Conv             [3, 16, 3, 2]                 \n",
      "  1                  -1  1      4672  ultralytics.nn.modules.conv.Conv             [16, 32, 3, 2]                \n",
      "  2                  -1  1      7360  ultralytics.nn.modules.block.C2f             [32, 32, 1, True]             \n",
      "  3                  -1  1     18560  ultralytics.nn.modules.conv.Conv             [32, 64, 3, 2]                \n",
      "  4                  -1  2     49664  ultralytics.nn.modules.block.C2f             [64, 64, 2, True]             \n",
      "  5                  -1  1     73984  ultralytics.nn.modules.conv.Conv             [64, 128, 3, 2]               \n",
      "  6                  -1  2    197632  ultralytics.nn.modules.block.C2f             [128, 128, 2, True]           \n",
      "  7                  -1  1    295424  ultralytics.nn.modules.conv.Conv             [128, 256, 3, 2]              \n",
      "  8                  -1  1    460288  ultralytics.nn.modules.block.C2f             [256, 256, 1, True]           \n",
      "  9                  -1  1    332802  ultralytics.nn.modules.head.Classify         [256, 2]                      \n",
      "YOLOv8n-cls summary: 99 layers, 1440850 parameters, 1440850 gradients, 3.4 GFLOPs\n",
      "Transferred 156/158 items from pretrained weights\n",
      "\u001b[34m\u001b[1mTensorBoard: \u001b[0mStart with 'tensorboard --logdir runs\\classify\\train30', view at http://localhost:6006/\n",
      "Freezing layer 'model.0.conv.weight'\n",
      "Freezing layer 'model.0.bn.weight'\n",
      "Freezing layer 'model.0.bn.bias'\n",
      "Freezing layer 'model.1.conv.weight'\n",
      "Freezing layer 'model.1.bn.weight'\n",
      "Freezing layer 'model.1.bn.bias'\n",
      "Freezing layer 'model.2.cv1.conv.weight'\n",
      "Freezing layer 'model.2.cv1.bn.weight'\n",
      "Freezing layer 'model.2.cv1.bn.bias'\n",
      "Freezing layer 'model.2.cv2.conv.weight'\n",
      "Freezing layer 'model.2.cv2.bn.weight'\n",
      "Freezing layer 'model.2.cv2.bn.bias'\n",
      "Freezing layer 'model.2.m.0.cv1.conv.weight'\n",
      "Freezing layer 'model.2.m.0.cv1.bn.weight'\n",
      "Freezing layer 'model.2.m.0.cv1.bn.bias'\n",
      "Freezing layer 'model.2.m.0.cv2.conv.weight'\n",
      "Freezing layer 'model.2.m.0.cv2.bn.weight'\n",
      "Freezing layer 'model.2.m.0.cv2.bn.bias'\n",
      "Freezing layer 'model.3.conv.weight'\n",
      "Freezing layer 'model.3.bn.weight'\n",
      "Freezing layer 'model.3.bn.bias'\n",
      "Freezing layer 'model.4.cv1.conv.weight'\n",
      "Freezing layer 'model.4.cv1.bn.weight'\n",
      "Freezing layer 'model.4.cv1.bn.bias'\n",
      "Freezing layer 'model.4.cv2.conv.weight'\n",
      "Freezing layer 'model.4.cv2.bn.weight'\n",
      "Freezing layer 'model.4.cv2.bn.bias'\n",
      "Freezing layer 'model.4.m.0.cv1.conv.weight'\n",
      "Freezing layer 'model.4.m.0.cv1.bn.weight'\n",
      "Freezing layer 'model.4.m.0.cv1.bn.bias'\n",
      "Freezing layer 'model.4.m.0.cv2.conv.weight'\n",
      "Freezing layer 'model.4.m.0.cv2.bn.weight'\n",
      "Freezing layer 'model.4.m.0.cv2.bn.bias'\n",
      "Freezing layer 'model.4.m.1.cv1.conv.weight'\n",
      "Freezing layer 'model.4.m.1.cv1.bn.weight'\n",
      "Freezing layer 'model.4.m.1.cv1.bn.bias'\n",
      "Freezing layer 'model.4.m.1.cv2.conv.weight'\n",
      "Freezing layer 'model.4.m.1.cv2.bn.weight'\n",
      "Freezing layer 'model.4.m.1.cv2.bn.bias'\n"
     ]
    },
    {
     "name": "stderr",
     "output_type": "stream",
     "text": [
      "\u001b[34m\u001b[1mtrain: \u001b[0mScanning D:\\archive3\\Data\\train... 250 images, 0 corrupt: 100%|██████████| 250/250 [00:00<?, ?it/s]\n",
      "\u001b[34m\u001b[1mval: \u001b[0mScanning D:\\archive3\\Data\\val... 1039 images, 0 corrupt: 100%|██████████| 1039/1039 [00:00<?, ?it/s]"
     ]
    },
    {
     "name": "stdout",
     "output_type": "stream",
     "text": [
      "\u001b[34m\u001b[1moptimizer:\u001b[0m 'optimizer=auto' found, ignoring 'lr0=0.01' and 'momentum=0.937' and determining best 'optimizer', 'lr0' and 'momentum' automatically... \n",
      "\u001b[34m\u001b[1moptimizer:\u001b[0m AdamW(lr=0.000714, momentum=0.9) with parameter groups 26 weight(decay=0.0), 27 weight(decay=0.0005), 27 bias(decay=0.0)\n"
     ]
    },
    {
     "name": "stderr",
     "output_type": "stream",
     "text": [
      "\n"
     ]
    },
    {
     "name": "stdout",
     "output_type": "stream",
     "text": [
      "\u001b[34m\u001b[1mTensorBoard: \u001b[0mmodel graph visualization added ✅\n",
      "Image sizes 224 train, 224 val\n",
      "Using 0 dataloader workers\n",
      "Logging results to \u001b[1mruns\\classify\\train30\u001b[0m\n",
      "Starting training for 40 epochs...\n",
      "\n",
      "      Epoch    GPU_mem       loss  Instances       Size\n"
     ]
    },
    {
     "name": "stderr",
     "output_type": "stream",
     "text": [
      "       1/40         0G     0.7106         10        224: 100%|██████████| 16/16 [00:06<00:00,  2.31it/s]\n",
      "               classes   top1_acc   top5_acc: 100%|██████████| 33/33 [00:49<00:00,  1.49s/it]"
     ]
    },
    {
     "name": "stdout",
     "output_type": "stream",
     "text": [
      "                   all      0.739          1\n",
      "\n",
      "      Epoch    GPU_mem       loss  Instances       Size\n"
     ]
    },
    {
     "name": "stderr",
     "output_type": "stream",
     "text": [
      "\n",
      "       2/40         0G     0.5974         10        224: 100%|██████████| 16/16 [00:06<00:00,  2.55it/s]\n",
      "               classes   top1_acc   top5_acc: 100%|██████████| 33/33 [00:47<00:00,  1.44s/it]"
     ]
    },
    {
     "name": "stdout",
     "output_type": "stream",
     "text": [
      "                   all      0.866          1\n",
      "\n",
      "      Epoch    GPU_mem       loss  Instances       Size\n"
     ]
    },
    {
     "name": "stderr",
     "output_type": "stream",
     "text": [
      "\n",
      "       3/40         0G     0.4422         10        224: 100%|██████████| 16/16 [00:06<00:00,  2.35it/s]\n",
      "               classes   top1_acc   top5_acc: 100%|██████████| 33/33 [00:49<00:00,  1.49s/it]"
     ]
    },
    {
     "name": "stdout",
     "output_type": "stream",
     "text": [
      "                   all      0.886          1\n",
      "\n",
      "      Epoch    GPU_mem       loss  Instances       Size\n"
     ]
    },
    {
     "name": "stderr",
     "output_type": "stream",
     "text": [
      "\n",
      "       4/40         0G     0.3354         10        224: 100%|██████████| 16/16 [00:05<00:00,  2.67it/s]\n",
      "               classes   top1_acc   top5_acc: 100%|██████████| 33/33 [00:46<00:00,  1.41s/it]"
     ]
    },
    {
     "name": "stdout",
     "output_type": "stream",
     "text": [
      "                   all        0.9          1\n"
     ]
    },
    {
     "name": "stderr",
     "output_type": "stream",
     "text": [
      "\n"
     ]
    },
    {
     "name": "stdout",
     "output_type": "stream",
     "text": [
      "\n",
      "      Epoch    GPU_mem       loss  Instances       Size\n"
     ]
    },
    {
     "name": "stderr",
     "output_type": "stream",
     "text": [
      "       5/40         0G     0.2215         10        224: 100%|██████████| 16/16 [00:06<00:00,  2.58it/s]\n",
      "               classes   top1_acc   top5_acc: 100%|██████████| 33/33 [00:47<00:00,  1.45s/it]"
     ]
    },
    {
     "name": "stdout",
     "output_type": "stream",
     "text": [
      "                   all        0.9          1\n",
      "\n",
      "      Epoch    GPU_mem       loss  Instances       Size\n"
     ]
    },
    {
     "name": "stderr",
     "output_type": "stream",
     "text": [
      "\n",
      "       6/40         0G     0.1951         10        224: 100%|██████████| 16/16 [00:06<00:00,  2.44it/s]\n",
      "               classes   top1_acc   top5_acc: 100%|██████████| 33/33 [00:49<00:00,  1.50s/it]"
     ]
    },
    {
     "name": "stdout",
     "output_type": "stream",
     "text": [
      "                   all      0.911          1\n",
      "\n",
      "      Epoch    GPU_mem       loss  Instances       Size\n"
     ]
    },
    {
     "name": "stderr",
     "output_type": "stream",
     "text": [
      "\n",
      "       7/40         0G     0.1415         10        224: 100%|██████████| 16/16 [00:06<00:00,  2.62it/s]\n",
      "               classes   top1_acc   top5_acc: 100%|██████████| 33/33 [00:46<00:00,  1.42s/it]"
     ]
    },
    {
     "name": "stdout",
     "output_type": "stream",
     "text": [
      "                   all      0.912          1\n",
      "\n",
      "      Epoch    GPU_mem       loss  Instances       Size\n"
     ]
    },
    {
     "name": "stderr",
     "output_type": "stream",
     "text": [
      "\n",
      "       8/40         0G     0.1202         10        224: 100%|██████████| 16/16 [00:06<00:00,  2.51it/s]\n",
      "               classes   top1_acc   top5_acc: 100%|██████████| 33/33 [00:49<00:00,  1.50s/it]"
     ]
    },
    {
     "name": "stdout",
     "output_type": "stream",
     "text": [
      "                   all      0.905          1\n",
      "\n",
      "      Epoch    GPU_mem       loss  Instances       Size\n"
     ]
    },
    {
     "name": "stderr",
     "output_type": "stream",
     "text": [
      "\n",
      "       9/40         0G     0.1545         10        224: 100%|██████████| 16/16 [00:06<00:00,  2.59it/s]\n",
      "               classes   top1_acc   top5_acc: 100%|██████████| 33/33 [00:47<00:00,  1.45s/it]"
     ]
    },
    {
     "name": "stdout",
     "output_type": "stream",
     "text": [
      "                   all      0.901          1\n",
      "\n",
      "      Epoch    GPU_mem       loss  Instances       Size\n"
     ]
    },
    {
     "name": "stderr",
     "output_type": "stream",
     "text": [
      "\n",
      "      10/40         0G      0.133         10        224: 100%|██████████| 16/16 [00:06<00:00,  2.48it/s]\n",
      "               classes   top1_acc   top5_acc: 100%|██████████| 33/33 [00:46<00:00,  1.42s/it]"
     ]
    },
    {
     "name": "stdout",
     "output_type": "stream",
     "text": [
      "                   all      0.919          1\n",
      "\n",
      "      Epoch    GPU_mem       loss  Instances       Size\n"
     ]
    },
    {
     "name": "stderr",
     "output_type": "stream",
     "text": [
      "\n",
      "      11/40         0G     0.1263         10        224: 100%|██████████| 16/16 [00:06<00:00,  2.66it/s]\n",
      "               classes   top1_acc   top5_acc: 100%|██████████| 33/33 [00:46<00:00,  1.40s/it]"
     ]
    },
    {
     "name": "stdout",
     "output_type": "stream",
     "text": [
      "                   all      0.939          1\n",
      "\n",
      "      Epoch    GPU_mem       loss  Instances       Size\n"
     ]
    },
    {
     "name": "stderr",
     "output_type": "stream",
     "text": [
      "\n",
      "      12/40         0G     0.1242         10        224: 100%|██████████| 16/16 [00:05<00:00,  2.67it/s]\n",
      "               classes   top1_acc   top5_acc: 100%|██████████| 33/33 [00:48<00:00,  1.46s/it]"
     ]
    },
    {
     "name": "stdout",
     "output_type": "stream",
     "text": [
      "                   all      0.937          1\n",
      "\n",
      "      Epoch    GPU_mem       loss  Instances       Size\n"
     ]
    },
    {
     "name": "stderr",
     "output_type": "stream",
     "text": [
      "\n",
      "      13/40         0G    0.07276         10        224: 100%|██████████| 16/16 [00:06<00:00,  2.60it/s]\n",
      "               classes   top1_acc   top5_acc: 100%|██████████| 33/33 [00:48<00:00,  1.47s/it]"
     ]
    },
    {
     "name": "stdout",
     "output_type": "stream",
     "text": [
      "                   all       0.93          1\n",
      "\n",
      "      Epoch    GPU_mem       loss  Instances       Size\n"
     ]
    },
    {
     "name": "stderr",
     "output_type": "stream",
     "text": [
      "\n",
      "      14/40         0G    0.06456         10        224: 100%|██████████| 16/16 [00:06<00:00,  2.58it/s]\n",
      "               classes   top1_acc   top5_acc: 100%|██████████| 33/33 [00:46<00:00,  1.42s/it]"
     ]
    },
    {
     "name": "stdout",
     "output_type": "stream",
     "text": [
      "                   all      0.924          1\n",
      "\n",
      "      Epoch    GPU_mem       loss  Instances       Size\n"
     ]
    },
    {
     "name": "stderr",
     "output_type": "stream",
     "text": [
      "\n",
      "      15/40         0G    0.07876         10        224: 100%|██████████| 16/16 [00:06<00:00,  2.63it/s]\n",
      "               classes   top1_acc   top5_acc: 100%|██████████| 33/33 [00:46<00:00,  1.41s/it]"
     ]
    },
    {
     "name": "stdout",
     "output_type": "stream",
     "text": [
      "                   all      0.933          1\n"
     ]
    },
    {
     "name": "stderr",
     "output_type": "stream",
     "text": [
      "\n"
     ]
    },
    {
     "name": "stdout",
     "output_type": "stream",
     "text": [
      "\n",
      "      Epoch    GPU_mem       loss  Instances       Size\n"
     ]
    },
    {
     "name": "stderr",
     "output_type": "stream",
     "text": [
      "      16/40         0G     0.1308         10        224: 100%|██████████| 16/16 [00:05<00:00,  2.70it/s]\n",
      "               classes   top1_acc   top5_acc: 100%|██████████| 33/33 [00:47<00:00,  1.44s/it]"
     ]
    },
    {
     "name": "stdout",
     "output_type": "stream",
     "text": [
      "                   all      0.938          1\n",
      "\n",
      "      Epoch    GPU_mem       loss  Instances       Size\n"
     ]
    },
    {
     "name": "stderr",
     "output_type": "stream",
     "text": [
      "\n",
      "      17/40         0G    0.09476         10        224: 100%|██████████| 16/16 [00:06<00:00,  2.66it/s]\n",
      "               classes   top1_acc   top5_acc: 100%|██████████| 33/33 [00:47<00:00,  1.44s/it]"
     ]
    },
    {
     "name": "stdout",
     "output_type": "stream",
     "text": [
      "                   all      0.929          1\n",
      "\n",
      "      Epoch    GPU_mem       loss  Instances       Size\n"
     ]
    },
    {
     "name": "stderr",
     "output_type": "stream",
     "text": [
      "\n",
      "      18/40         0G    0.07973         10        224: 100%|██████████| 16/16 [00:06<00:00,  2.61it/s]\n",
      "               classes   top1_acc   top5_acc: 100%|██████████| 33/33 [00:48<00:00,  1.48s/it]"
     ]
    },
    {
     "name": "stdout",
     "output_type": "stream",
     "text": [
      "                   all       0.94          1\n",
      "\n",
      "      Epoch    GPU_mem       loss  Instances       Size\n"
     ]
    },
    {
     "name": "stderr",
     "output_type": "stream",
     "text": [
      "\n",
      "      19/40         0G    0.08656         10        224: 100%|██████████| 16/16 [00:05<00:00,  2.68it/s]\n",
      "               classes   top1_acc   top5_acc: 100%|██████████| 33/33 [00:46<00:00,  1.42s/it]"
     ]
    },
    {
     "name": "stdout",
     "output_type": "stream",
     "text": [
      "                   all      0.939          1\n",
      "\n",
      "      Epoch    GPU_mem       loss  Instances       Size\n"
     ]
    },
    {
     "name": "stderr",
     "output_type": "stream",
     "text": [
      "\n",
      "      20/40         0G    0.07044         10        224: 100%|██████████| 16/16 [00:05<00:00,  2.68it/s]\n",
      "               classes   top1_acc   top5_acc: 100%|██████████| 33/33 [00:46<00:00,  1.41s/it]"
     ]
    },
    {
     "name": "stdout",
     "output_type": "stream",
     "text": [
      "                   all      0.936          1\n",
      "\n",
      "      Epoch    GPU_mem       loss  Instances       Size\n"
     ]
    },
    {
     "name": "stderr",
     "output_type": "stream",
     "text": [
      "\n",
      "      21/40         0G    0.07622         10        224: 100%|██████████| 16/16 [00:05<00:00,  2.70it/s]\n",
      "               classes   top1_acc   top5_acc: 100%|██████████| 33/33 [00:46<00:00,  1.40s/it]"
     ]
    },
    {
     "name": "stdout",
     "output_type": "stream",
     "text": [
      "                   all      0.929          1\n",
      "\n",
      "      Epoch    GPU_mem       loss  Instances       Size\n"
     ]
    },
    {
     "name": "stderr",
     "output_type": "stream",
     "text": [
      "\n",
      "      22/40         0G    0.07906         10        224: 100%|██████████| 16/16 [00:05<00:00,  2.70it/s]\n",
      "               classes   top1_acc   top5_acc: 100%|██████████| 33/33 [00:46<00:00,  1.40s/it]"
     ]
    },
    {
     "name": "stdout",
     "output_type": "stream",
     "text": [
      "                   all      0.925          1\n",
      "\n",
      "      Epoch    GPU_mem       loss  Instances       Size\n"
     ]
    },
    {
     "name": "stderr",
     "output_type": "stream",
     "text": [
      "\n",
      "      23/40         0G    0.09149         10        224: 100%|██████████| 16/16 [00:05<00:00,  2.69it/s]\n",
      "               classes   top1_acc   top5_acc: 100%|██████████| 33/33 [00:46<00:00,  1.40s/it]"
     ]
    },
    {
     "name": "stdout",
     "output_type": "stream",
     "text": [
      "                   all       0.93          1\n",
      "\n",
      "      Epoch    GPU_mem       loss  Instances       Size\n"
     ]
    },
    {
     "name": "stderr",
     "output_type": "stream",
     "text": [
      "\n",
      "      24/40         0G    0.04329         10        224: 100%|██████████| 16/16 [00:05<00:00,  2.73it/s]\n",
      "               classes   top1_acc   top5_acc: 100%|██████████| 33/33 [00:46<00:00,  1.40s/it]"
     ]
    },
    {
     "name": "stdout",
     "output_type": "stream",
     "text": [
      "                   all      0.946          1\n",
      "\n",
      "      Epoch    GPU_mem       loss  Instances       Size\n"
     ]
    },
    {
     "name": "stderr",
     "output_type": "stream",
     "text": [
      "\n",
      "      25/40         0G    0.05913         10        224: 100%|██████████| 16/16 [00:06<00:00,  2.64it/s]\n",
      "               classes   top1_acc   top5_acc: 100%|██████████| 33/33 [00:45<00:00,  1.38s/it]"
     ]
    },
    {
     "name": "stdout",
     "output_type": "stream",
     "text": [
      "                   all      0.942          1\n",
      "\n",
      "      Epoch    GPU_mem       loss  Instances       Size\n"
     ]
    },
    {
     "name": "stderr",
     "output_type": "stream",
     "text": [
      "\n",
      "      26/40         0G    0.06104         10        224: 100%|██████████| 16/16 [00:05<00:00,  2.69it/s]\n",
      "               classes   top1_acc   top5_acc: 100%|██████████| 33/33 [00:45<00:00,  1.39s/it]"
     ]
    },
    {
     "name": "stdout",
     "output_type": "stream",
     "text": [
      "                   all      0.946          1\n",
      "\n",
      "      Epoch    GPU_mem       loss  Instances       Size\n"
     ]
    },
    {
     "name": "stderr",
     "output_type": "stream",
     "text": [
      "\n",
      "      27/40         0G     0.0266         10        224: 100%|██████████| 16/16 [00:05<00:00,  2.71it/s]\n",
      "               classes   top1_acc   top5_acc: 100%|██████████| 33/33 [00:45<00:00,  1.38s/it]"
     ]
    },
    {
     "name": "stdout",
     "output_type": "stream",
     "text": [
      "                   all      0.945          1\n",
      "\n",
      "      Epoch    GPU_mem       loss  Instances       Size\n"
     ]
    },
    {
     "name": "stderr",
     "output_type": "stream",
     "text": [
      "\n",
      "      28/40         0G    0.05602         10        224: 100%|██████████| 16/16 [00:05<00:00,  2.71it/s]\n",
      "               classes   top1_acc   top5_acc: 100%|██████████| 33/33 [00:45<00:00,  1.39s/it]"
     ]
    },
    {
     "name": "stdout",
     "output_type": "stream",
     "text": [
      "                   all      0.934          1\n",
      "\n",
      "      Epoch    GPU_mem       loss  Instances       Size\n"
     ]
    },
    {
     "name": "stderr",
     "output_type": "stream",
     "text": [
      "\n",
      "      29/40         0G    0.05691         10        224: 100%|██████████| 16/16 [00:05<00:00,  2.70it/s]\n",
      "               classes   top1_acc   top5_acc: 100%|██████████| 33/33 [00:45<00:00,  1.38s/it]"
     ]
    },
    {
     "name": "stdout",
     "output_type": "stream",
     "text": [
      "                   all      0.931          1\n"
     ]
    },
    {
     "name": "stderr",
     "output_type": "stream",
     "text": [
      "\n"
     ]
    },
    {
     "name": "stdout",
     "output_type": "stream",
     "text": [
      "\n",
      "      Epoch    GPU_mem       loss  Instances       Size\n"
     ]
    },
    {
     "name": "stderr",
     "output_type": "stream",
     "text": [
      "      30/40         0G    0.07192         10        224: 100%|██████████| 16/16 [00:05<00:00,  2.68it/s]\n",
      "               classes   top1_acc   top5_acc: 100%|██████████| 33/33 [00:46<00:00,  1.41s/it]"
     ]
    },
    {
     "name": "stdout",
     "output_type": "stream",
     "text": [
      "                   all       0.93          1\n",
      "\n",
      "      Epoch    GPU_mem       loss  Instances       Size\n"
     ]
    },
    {
     "name": "stderr",
     "output_type": "stream",
     "text": [
      "\n",
      "      31/40         0G    0.06799         10        224: 100%|██████████| 16/16 [00:06<00:00,  2.66it/s]\n",
      "               classes   top1_acc   top5_acc: 100%|██████████| 33/33 [00:46<00:00,  1.40s/it]"
     ]
    },
    {
     "name": "stdout",
     "output_type": "stream",
     "text": [
      "                   all       0.93          1\n"
     ]
    },
    {
     "name": "stderr",
     "output_type": "stream",
     "text": [
      "\n"
     ]
    },
    {
     "name": "stdout",
     "output_type": "stream",
     "text": [
      "\n",
      "      Epoch    GPU_mem       loss  Instances       Size\n"
     ]
    },
    {
     "name": "stderr",
     "output_type": "stream",
     "text": [
      "      32/40         0G    0.02408         10        224: 100%|██████████| 16/16 [00:05<00:00,  2.68it/s]\n",
      "               classes   top1_acc   top5_acc: 100%|██████████| 33/33 [00:45<00:00,  1.39s/it]"
     ]
    },
    {
     "name": "stdout",
     "output_type": "stream",
     "text": [
      "                   all      0.916          1\n",
      "\n",
      "      Epoch    GPU_mem       loss  Instances       Size\n"
     ]
    },
    {
     "name": "stderr",
     "output_type": "stream",
     "text": [
      "\n",
      "      33/40         0G    0.08849         10        224: 100%|██████████| 16/16 [00:06<00:00,  2.59it/s]\n",
      "               classes   top1_acc   top5_acc: 100%|██████████| 33/33 [00:46<00:00,  1.42s/it]"
     ]
    },
    {
     "name": "stdout",
     "output_type": "stream",
     "text": [
      "                   all      0.917          1\n",
      "\n",
      "      Epoch    GPU_mem       loss  Instances       Size\n"
     ]
    },
    {
     "name": "stderr",
     "output_type": "stream",
     "text": [
      "\n",
      "      34/40         0G    0.02975         10        224: 100%|██████████| 16/16 [00:05<00:00,  2.68it/s]\n",
      "               classes   top1_acc   top5_acc: 100%|██████████| 33/33 [00:47<00:00,  1.43s/it]"
     ]
    },
    {
     "name": "stdout",
     "output_type": "stream",
     "text": [
      "                   all      0.898          1\n",
      "\n",
      "      Epoch    GPU_mem       loss  Instances       Size\n"
     ]
    },
    {
     "name": "stderr",
     "output_type": "stream",
     "text": [
      "\n",
      "      35/40         0G    0.03755         10        224: 100%|██████████| 16/16 [00:05<00:00,  2.68it/s]\n",
      "               classes   top1_acc   top5_acc: 100%|██████████| 33/33 [00:46<00:00,  1.42s/it]"
     ]
    },
    {
     "name": "stdout",
     "output_type": "stream",
     "text": [
      "                   all      0.906          1\n",
      "\n",
      "      Epoch    GPU_mem       loss  Instances       Size\n"
     ]
    },
    {
     "name": "stderr",
     "output_type": "stream",
     "text": [
      "\n",
      "      36/40         0G    0.04008         10        224: 100%|██████████| 16/16 [00:06<00:00,  2.64it/s]\n",
      "               classes   top1_acc   top5_acc: 100%|██████████| 33/33 [00:47<00:00,  1.43s/it]"
     ]
    },
    {
     "name": "stdout",
     "output_type": "stream",
     "text": [
      "                   all      0.909          1\n",
      "\n",
      "      Epoch    GPU_mem       loss  Instances       Size\n"
     ]
    },
    {
     "name": "stderr",
     "output_type": "stream",
     "text": [
      "\n",
      "      37/40         0G    0.04519         10        224: 100%|██████████| 16/16 [00:06<00:00,  2.66it/s]\n",
      "               classes   top1_acc   top5_acc: 100%|██████████| 33/33 [00:47<00:00,  1.43s/it]"
     ]
    },
    {
     "name": "stdout",
     "output_type": "stream",
     "text": [
      "                   all      0.909          1\n",
      "\n",
      "      Epoch    GPU_mem       loss  Instances       Size\n"
     ]
    },
    {
     "name": "stderr",
     "output_type": "stream",
     "text": [
      "\n",
      "      38/40         0G    0.04098         10        224: 100%|██████████| 16/16 [00:05<00:00,  2.71it/s]\n",
      "               classes   top1_acc   top5_acc: 100%|██████████| 33/33 [00:46<00:00,  1.40s/it]"
     ]
    },
    {
     "name": "stdout",
     "output_type": "stream",
     "text": [
      "                   all        0.9          1\n",
      "\n",
      "      Epoch    GPU_mem       loss  Instances       Size\n"
     ]
    },
    {
     "name": "stderr",
     "output_type": "stream",
     "text": [
      "\n",
      "      39/40         0G    0.04115         10        224: 100%|██████████| 16/16 [00:06<00:00,  2.64it/s]\n",
      "               classes   top1_acc   top5_acc: 100%|██████████| 33/33 [00:50<00:00,  1.52s/it]"
     ]
    },
    {
     "name": "stdout",
     "output_type": "stream",
     "text": [
      "                   all      0.907          1\n",
      "\n",
      "      Epoch    GPU_mem       loss  Instances       Size\n"
     ]
    },
    {
     "name": "stderr",
     "output_type": "stream",
     "text": [
      "\n",
      "      40/40         0G    0.04384         10        224: 100%|██████████| 16/16 [00:06<00:00,  2.36it/s]\n",
      "               classes   top1_acc   top5_acc: 100%|██████████| 33/33 [00:49<00:00,  1.51s/it]"
     ]
    },
    {
     "name": "stdout",
     "output_type": "stream",
     "text": [
      "                   all      0.909          1\n",
      "\n",
      "40 epochs completed in 0.594 hours.\n",
      "Optimizer stripped from runs\\classify\\train30\\weights\\last.pt, 3.0MB\n"
     ]
    },
    {
     "name": "stderr",
     "output_type": "stream",
     "text": [
      "\n"
     ]
    },
    {
     "name": "stdout",
     "output_type": "stream",
     "text": [
      "Optimizer stripped from runs\\classify\\train30\\weights\\best.pt, 3.0MB\n",
      "\n",
      "Validating runs\\classify\\train30\\weights\\best.pt...\n",
      "Ultralytics YOLOv8.1.37 🚀 Python-3.11.5 torch-2.2.2+cpu CPU (AMD Ryzen 7 5800H with Radeon Graphics)\n",
      "YOLOv8n-cls summary (fused): 73 layers, 1437442 parameters, 0 gradients, 3.3 GFLOPs\n",
      "\u001b[34m\u001b[1mtrain:\u001b[0m D:\\archive3\\Data\\train... found 250 images in 2 classes ✅ \n",
      "\u001b[34m\u001b[1mval:\u001b[0m D:\\archive3\\Data\\val... found 1039 images in 2 classes ✅ \n",
      "\u001b[34m\u001b[1mtest:\u001b[0m D:\\archive3\\Data\\test... found 1401 images in 6 classes: ERROR ❌️ requires 2 classes, not 6\n"
     ]
    },
    {
     "name": "stderr",
     "output_type": "stream",
     "text": [
      "               classes   top1_acc   top5_acc: 100%|██████████| 33/33 [00:49<00:00,  1.49s/it]\n"
     ]
    },
    {
     "name": "stdout",
     "output_type": "stream",
     "text": [
      "                   all      0.946          1\n",
      "Speed: 0.0ms preprocess, 4.2ms inference, 0.0ms loss, 0.0ms postprocess per image\n",
      "Results saved to \u001b[1mruns\\classify\\train30\u001b[0m\n",
      "Results saved to \u001b[1mruns\\classify\\train30\u001b[0m\n"
     ]
    },
    {
     "data": {
      "text/plain": [
       "ultralytics.utils.metrics.ClassifyMetrics object with attributes:\n",
       "\n",
       "confusion_matrix: <ultralytics.utils.metrics.ConfusionMatrix object at 0x00000205E57DC650>\n",
       "curves: []\n",
       "curves_results: []\n",
       "fitness: 0.9730510115623474\n",
       "keys: ['metrics/accuracy_top1', 'metrics/accuracy_top5']\n",
       "results_dict: {'metrics/accuracy_top1': 0.9461020231246948, 'metrics/accuracy_top5': 1.0, 'fitness': 0.9730510115623474}\n",
       "save_dir: WindowsPath('runs/classify/train30')\n",
       "speed: {'preprocess': 0.0, 'inference': 4.202146502615054, 'loss': 0.0, 'postprocess': 0.0}\n",
       "task: 'classify'\n",
       "top1: 0.9461020231246948\n",
       "top5: 1.0"
      ]
     },
     "execution_count": 9,
     "metadata": {},
     "output_type": "execute_result"
    }
   ],
   "source": [
    "# import YOLO model\n",
    "from ultralytics import YOLO\n",
    "import os\n",
    "import torch\n",
    "\n",
    "# Load a model\n",
    "model = YOLO('yolov8n-cls.pt') # load a pretrained model (recommended for training)\n",
    "\n",
    "patha = os.getcwd()\n",
    "# Train the model\n",
    "model.train(data= r'D:\\archive3\\Data', epochs=40, freeze = 5)"
   ]
  },
  {
   "cell_type": "code",
   "execution_count": null,
   "id": "f401ff3f-7730-4a27-8522-415cc6978af1",
   "metadata": {},
   "outputs": [],
   "source": [
    "model"
   ]
  },
  {
   "cell_type": "code",
   "execution_count": null,
   "id": "505cb6ce-b63d-4024-9e35-5faa65ded2e7",
   "metadata": {},
   "outputs": [],
   "source": [
    "pip install to"
   ]
  },
  {
   "cell_type": "code",
   "execution_count": 9,
   "id": "4aabaa3d-93e4-4024-9606-316412d9e290",
   "metadata": {},
   "outputs": [
    {
     "name": "stdout",
     "output_type": "stream",
     "text": [
      "\n",
      "WARNING ⚠️ torch.Tensor inputs should be normalized 0.0-1.0 but max value is 255.0. Dividing input by 255.\n",
      "0: 640x640 brown_rust_1 0.69, healthy_1 0.31, 43.0ms\n",
      "Speed: 0.0ms preprocess, 43.0ms inference, 2.0ms postprocess per image at shape (1, 3, 640, 640)\n",
      "{0: 'brown_rust_1', 1: 'healthy_1'}\n",
      "tensor([0.6903, 0.3097])\n"
     ]
    }
   ],
   "source": [
    "import cv2\n",
    "import numpy as np\n",
    "import torch\n",
    "from torch import Tensor\n",
    "\n",
    "# Load image\n",
    "img_path = r'C:\\Users\\Miro\\Desktop\\FieldScan\\lolr(61).JPG'  # Replace 'path_to_your_image.jpg' with the path to your image\n",
    "image = cv2.imread(img_path)\n",
    "\n",
    "# Resize image to match the model's input size\n",
    "input_size = (640, 640)  # Adjust this size based on your model's requirements\n",
    "resized_image = cv2.resize(image, input_size)\n",
    "\n",
    "# Convert resized image to PyTorch tensor\n",
    "image_tensor = torch.from_numpy(resized_image).permute(2, 0, 1).unsqueeze(0).float()\n",
    "\n",
    "# Perform inference\n",
    "detection_results = model(image_tensor)\n",
    "\n",
    "# Process the detection results\n",
    "# Depending on your model's output, you may need to extract confidence scores\n",
    "# and other information from the detection results\n",
    "\n",
    "# for det in detection_results:\n",
    "#     print(det)\n",
    "print(detection_results[0].names)\n",
    "\n",
    "print(detection_results[0].probs.top5conf)\n",
    "\n"
   ]
  },
  {
   "cell_type": "code",
   "execution_count": null,
   "id": "9b957aab-4f79-448c-a652-94aca3fa80e7",
   "metadata": {},
   "outputs": [],
   "source": [
    "import cv2\n",
    "import numpy as np\n",
    "import torch\n",
    "from model import YourYOLOModelClass  # Import your YOLO model architecture\n",
    "\n",
    "# Instantiate your YOLO model\n",
    "model = YourYOLOModelClass()\n",
    "\n",
    "# Load weights from the checkpoint\n",
    "checkpoint = torch.load(\"model.pt\")\n",
    "model.load_state_dict(checkpoint['model_state_dict'])\n",
    "\n",
    "# Set model to evaluation mode\n",
    "model.eval()\n",
    "\n",
    "# Load COCO class labels\n",
    "classes = []\n",
    "with open(\"coco.names\", \"r\") as f:\n",
    "    classes = [line.strip() for line in f.readlines()]\n",
    "\n",
    "# Load image\n",
    "image = cv2.imread(\"image.jpg\")\n",
    "height, width, _ = image.shape\n",
    "\n",
    "# Preprocess input image\n",
    "blob = cv2.dnn.blobFromImage(image, 1/255.0, (416, 416), swapRB=True, crop=False)\n",
    "\n",
    "# Set input to the network\n",
    "net.setInput(blob)\n",
    "\n",
    "# Perform forward pass\n",
    "outs = net.forward()\n",
    "\n",
    "# Process detection results\n",
    "for out in outs:\n",
    "    for detection in out:\n",
    "        scores = detection[5:]\n",
    "        class_id = np.argmax(scores)\n",
    "        confidence = scores[class_id]\n",
    "        if confidence > 0.5:  # adjust confidence threshold as needed\n",
    "            center_x = int(detection[0] * width)\n",
    "            center_y = int(detection[1] * height)\n",
    "            w = int(detection[2] * width)\n",
    "            h = int(detection[3] * height)\n",
    "\n",
    "            # Calculate top-left corner coordinates\n",
    "            x = int(center_x - w / 2)\n",
    "            y = int(center_y - h / 2)\n",
    "\n",
    "            # Draw bounding box and label\n",
    "            cv2.rectangle(image, (x, y), (x + w, y + h), (0, 255, 0), 2)\n",
    "            cv2.putText(image, classes[class_id], (x, y - 5), cv2.FONT_HERSHEY_SIMPLEX, 0.5, (0, 255, 0), 2)\n",
    "\n",
    "# Show results\n",
    "cv2.imshow(\"Detection\", image)\n",
    "cv2.waitKey(0)\n",
    "cv2.destroyAllWindows()\n"
   ]
  },
  {
   "cell_type": "markdown",
   "id": "de2474dd-a407-4d20-b849-cf20f55952f6",
   "metadata": {},
   "source": [
    "model\n"
   ]
  },
  {
   "cell_type": "code",
   "execution_count": 19,
   "id": "4ef6bdbb-0ae7-4f85-84d9-bc01f9965bda",
   "metadata": {},
   "outputs": [
    {
     "name": "stdout",
     "output_type": "stream",
     "text": [
      "\n",
      "WARNING ⚠️ torch.Tensor inputs should be normalized 0.0-1.0 but max value is 255.0. Dividing input by 255.\n",
      "0: 640x640 brown_rust_1 0.69, healthy_1 0.31, 35.0ms\n",
      "Speed: 0.0ms preprocess, 35.0ms inference, 2.0ms postprocess per image at shape (1, 3, 640, 640)\n",
      "{0: 'brown_rust_1', 1: 'healthy_1'}\n",
      "[tensor(0.6903), tensor(0.3097)]\n"
     ]
    }
   ],
   "source": [
    "import cv2\n",
    "import numpy as np\n",
    "import torch\n",
    "from torch import Tensor\n",
    "import tensorflow as tf\n",
    "from ultralytics import YOLO\n",
    "\n",
    "# load a pretrained model (recommended for training)\n",
    "\n",
    "file = r'C:\\Users\\Miro\\Desktop\\FieldScan\\runs\\classify\\train25\\weights\\best.pt'\n",
    "mymodel = YOLO(file)\n",
    "\n",
    "\n",
    "# mymodel = tf.keras.models.load_model(r'C:\\Users\\Miro\\Desktop\\FieldScan\\runs\\classify\\train25\\weights\\best.pt')\n",
    "\n",
    "# Load image\n",
    "img_path = r'C:\\Users\\Miro\\Desktop\\FieldScan\\lolr(61).JPG'  # Replace 'path_to_your_image.jpg' with the path to your image\n",
    "image = cv2.imread(img_path)\n",
    "\n",
    "# Resize image to match the model's input size\n",
    "input_size = (640, 640)  # Adjust this size based on your model's requirements\n",
    "resized_image = cv2.resize(image, input_size)\n",
    "\n",
    "# Convert resized image to PyTorch tensor\n",
    "image_tensor = torch.from_numpy(resized_image).permute(2, 0, 1).unsqueeze(0).float()\n",
    "\n",
    "# Perform inference\n",
    "detection_results = mymodel(image_tensor)\n",
    "\n",
    "# Process the detection results\n",
    "# Depending on your model's output, you may need to extract confidence scores\n",
    "# and other information from the detection results\n",
    "\n",
    "# for det in detection_results:\n",
    "#     print(det)\n",
    "print(detection_results[0].names)\n",
    "\n",
    "print(list(detection_results[0].probs.top5conf))\n"
   ]
  },
  {
   "cell_type": "code",
   "execution_count": null,
   "id": "88cd3f91-23e9-4181-a02a-1e0cbaabf618",
   "metadata": {},
   "outputs": [],
   "source": []
  }
 ],
 "metadata": {
  "kernelspec": {
   "display_name": "Python 3 (ipykernel)",
   "language": "python",
   "name": "python3"
  },
  "language_info": {
   "codemirror_mode": {
    "name": "ipython",
    "version": 3
   },
   "file_extension": ".py",
   "mimetype": "text/x-python",
   "name": "python",
   "nbconvert_exporter": "python",
   "pygments_lexer": "ipython3",
   "version": "3.11.5"
  }
 },
 "nbformat": 4,
 "nbformat_minor": 5
}
